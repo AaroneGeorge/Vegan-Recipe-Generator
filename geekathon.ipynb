{
  "cells": [
    {
      "cell_type": "code",
      "execution_count": null,
      "metadata": {
        "colab": {
          "base_uri": "https://localhost:8080/"
        },
        "id": "7Wm1a1t66Gqe",
        "outputId": "7c315bb8-5504-48b9-f606-dc960e930705"
      },
      "outputs": [],
      "source": [
        "%pip install boto3=='1.28.62'"
      ]
    },
    {
      "cell_type": "code",
      "execution_count": 17,
      "metadata": {
        "id": "oyrSEcOL6Ijv"
      },
      "outputs": [],
      "source": [
        "from abc import ABC\n",
        "import boto3\n",
        "import json"
      ]
    },
    {
      "cell_type": "code",
      "execution_count": 18,
      "metadata": {
        "id": "oMMMVf806Ihy"
      },
      "outputs": [],
      "source": [
        "import os\n",
        "#os.environ[\"AWS_ACCESS_KEY_ID\"]=\"\"\n",
        "#os.environ[\"AWS_SECRET_ACCESS_KEY\"]=\"\"\n",
        "#os.environ[\"AWS_DEFAULT_REGION\"]=\"\""
      ]
    },
    {
      "cell_type": "code",
      "execution_count": 19,
      "metadata": {
        "id": "xduYFSlK6Ifj"
      },
      "outputs": [],
      "source": [
        "class Prompt(ABC):\n",
        "    def __init__(self, speaker, text):\n",
        "        self.speaker = speaker\n",
        "        self.text = text\n",
        "\n",
        "    def __str__(self):\n",
        "        return f\"\\n\\n{self.speaker}: {self.text}\"\n",
        "\n",
        "    def __repr__(self):\n",
        "        return self.__str__()"
      ]
    },
    {
      "cell_type": "code",
      "execution_count": 20,
      "metadata": {
        "id": "Oek5TNYN6Qae"
      },
      "outputs": [],
      "source": [
        "class HumanPrompt(Prompt):\n",
        "    def __init__(self, text):\n",
        "        super().__init__(\"Human\", text)"
      ]
    },
    {
      "cell_type": "code",
      "execution_count": 21,
      "metadata": {
        "id": "aqbJEBJ06Uaq"
      },
      "outputs": [],
      "source": [
        "class AssistantPrompt(Prompt):\n",
        "    def __init__(self, text):\n",
        "        super().__init__(\"Assistant\", text)"
      ]
    },
    {
      "cell_type": "code",
      "execution_count": 22,
      "metadata": {
        "id": "hWIczTBK6iQe"
      },
      "outputs": [],
      "source": [
        "class ConversationChain:\n",
        "    def __init__(self, prompts: list = None, generator = None):\n",
        "        if prompts is None:\n",
        "            prompts = []\n",
        "        self.prompts = prompts\n",
        "        self.generator = generator\n",
        "\n",
        "    def __str__(self):\n",
        "        return \"\\n\".join([str(p) for p in self.prompts])\n",
        "\n",
        "    def __repr__(self):\n",
        "        return self.__str__()\n",
        "\n",
        "    def __add__(self, prompt: Prompt):\n",
        "        return ConversationChain(self.prompts + [prompt], self.generator)\n",
        "\n",
        "    # access list elements with []\n",
        "    def __getitem__(self, index): #-> Prompt | ConversationChain:\n",
        "        print(\"Getting item for index\", index)\n",
        "        if isinstance(index, slice):\n",
        "            return ConversationChain(self.prompts[index], self.generator)\n",
        "        else:\n",
        "            return self.prompts[index]\n",
        "\n",
        "    def generate(self):\n",
        "        # non mutating self\n",
        "        prompt = self.__str__() + \"\\n\\Assistant:\"\n",
        "        # print(prompt)\n",
        "        generated = ''.join(self.generator(prompt))\n",
        "        return self + AssistantPrompt(generated)"
      ]
    },
    {
      "cell_type": "code",
      "execution_count": 23,
      "metadata": {
        "id": "kKuG6j_56tw2"
      },
      "outputs": [],
      "source": [
        "def invoke_bedrock_anthropic_claude_v2(prompt):\n",
        "    \"\"\"Invoke Anthropic Claude v2 model.\"\"\"\n",
        "    bedrock_runtime = boto3.client(\n",
        "        service_name='bedrock-runtime',\n",
        "        region_name='us-east-1',\n",
        "        endpoint_url='https://bedrock.us-east-1.amazonaws.com')\n",
        "    def body(_prompt: str) -> str:\n",
        "        return json.dumps(\n",
        "            {\n",
        "                'prompt': _prompt,\n",
        "                'max_tokens_to_sample':2048,\n",
        "                'temperature':0.0,\n",
        "                'top_k':250,\n",
        "                'top_p':0.999,\n",
        "                'stop_sequences':['Human:'],\n",
        "            },\n",
        "        )\n",
        "    model_id = 'anthropic.claude-v2'\n",
        "    accept = '*/*'\n",
        "    content_type = 'application/json'\n",
        "    try:\n",
        "        response = bedrock_runtime.invoke_model_with_response_stream(\n",
        "            body=body(prompt),\n",
        "            modelId=model_id,\n",
        "            accept=accept,\n",
        "            contentType=content_type)\n",
        "\n",
        "        request_id = response['ResponseMetadata']['RequestId']\n",
        "\n",
        "        for m in response['body']:\n",
        "            b = m.get('chunk', {}).get('bytes', b'')\n",
        "            json_response: dict = json.loads(b)\n",
        "            resp: str = json_response.get('completion', '')\n",
        "            # print('🤖 Out <%s>: %s', request_id, repr(resp))\n",
        "            yield resp\n",
        "            # relinquish control to the event loop,\n",
        "            # allowing other tasks and callbacks to run\n",
        "\n",
        "            if json_response['stop_reason']:\n",
        "                # print(\n",
        "                #     '🤖 Stop <%s> with %s',\n",
        "                #     request_id,\n",
        "                #     json_response['stop_reason'],\n",
        "                # )\n",
        "                break\n",
        "\n",
        "    except Exception as err:\n",
        "        raise err\n"
      ]
    },
    {
      "cell_type": "code",
      "execution_count": 24,
      "metadata": {
        "id": "Lgtol1tf8wV0"
      },
      "outputs": [],
      "source": [
        "ingredients = \"sugar,  flour, cocoa powder,chocolate syrup\"\n",
        "restrictions = \"should'nt be too sweet, should have low calories\"\n",
        "diet_preferences = \"italian\""
      ]
    },
    {
      "cell_type": "code",
      "execution_count": 25,
      "metadata": {
        "colab": {
          "base_uri": "https://localhost:8080/",
          "height": 52
        },
        "id": "1TRK4j-M7Fvi",
        "outputId": "3d80fca5-4efa-49a1-874b-99467036e1c8"
      },
      "outputs": [
        {
          "data": {
            "text/plain": [
              "\"Can you please recommend me 5 vegan recipes with these ingredients - sugar,  flour, cocoa powder,chocolate syrup. I also have these restrictions - should'nt be too sweet, should have low calories. Along with these preferences - italian\""
            ]
          },
          "execution_count": 25,
          "metadata": {},
          "output_type": "execute_result"
        }
      ],
      "source": [
        "prompt = \"Can you please recommend me 5 vegan recipes with these ingredients - \"+ingredients+\". I also have these restrictions - \"+ restrictions+ \". Along with these preferences - \"+ diet_preferences\n",
        "prompt"
      ]
    },
    {
      "cell_type": "code",
      "execution_count": 26,
      "metadata": {
        "colab": {
          "base_uri": "https://localhost:8080/"
        },
        "id": "1hY4M0am6zQM",
        "outputId": "43405787-23f5-470f-c611-6c0ab437623d"
      },
      "outputs": [
        {
          "name": "stdout",
          "output_type": "stream",
          "text": [
            "\n",
            "\n",
            "Human: Can you please recommend me 5 vegan recipes with these ingredients - sugar,  flour, cocoa powder,chocolate syrup. I also have these restrictions - should'nt be too sweet, should have low calories. Along with these preferences - italian\n"
          ]
        }
      ],
      "source": [
        "s1  = HumanPrompt(prompt)\n",
        "\n",
        "chain = ConversationChain([s1], generator=invoke_bedrock_anthropic_claude_v2)\n",
        "print(chain)"
      ]
    },
    {
      "cell_type": "code",
      "execution_count": 27,
      "metadata": {
        "colab": {
          "base_uri": "https://localhost:8080/"
        },
        "id": "DE0eDEc361Ja",
        "outputId": "4b940652-d628-4d76-e942-85d252936ebc"
      },
      "outputs": [
        {
          "data": {
            "text/plain": [
              "\n",
              "\n",
              "Human: Can you please recommend me 5 vegan recipes with these ingredients - sugar,  flour, cocoa powder,chocolate syrup. I also have these restrictions - should'nt be too sweet, should have low calories. Along with these preferences - italian\n",
              "\n",
              "\n",
              "Assistant:  Here are 5 vegan recipe ideas using sugar, flour, cocoa powder, and chocolate syrup that aren't too sweet, are lower in calories, and have an Italian flair:\n",
              "\n",
              "1. Vegan Chocolate Hazelnut Biscotti - Make biscotti dough with flour, sugar, cocoa powder, chopped hazelnuts. Shape into a log, bake, slice, and bake again. Dip in melted chocolate or chocolate-hazelnut spread.\n",
              "\n",
              "2. Vegan Chocolate Amaretti Cookies - Mix almond flour, sugar, cocoa powder, almond extract to make small cookies. Bake and dust with powdered sugar.\n",
              "\n",
              "3. Vegan Chocolate Espresso Pudding - Mix cocoa powder, sugar, cornstarch, non-dairy milk, espresso powder. Cook on the stove until thickened. Chill and top with whipped coconut cream. \n",
              "\n",
              "4. Vegan Chocolate Olive Oil Cake - Whisk together flour, sugar, cocoa powder, baking powder, olive oil, non-dairy milk, and vanilla. Bake in a cake pan. Dust with powdered sugar.\n",
              "\n",
              "5. Vegan Chocolate Biscotti Smoothie - Blend banana, non-dairy milk, cocoa powder, crushed biscotti, chocolate syrup. Top with whipped coconut cream and biscotti pieces.\n",
              "\n",
              "Let me know if you need any other details on these recipes or have additional ingredient preferences! I'm happy to provide more vegan baking ideas."
            ]
          },
          "execution_count": 27,
          "metadata": {},
          "output_type": "execute_result"
        }
      ],
      "source": [
        "chain = chain.generate()\n",
        "chain"
      ]
    },
    {
      "cell_type": "code",
      "execution_count": 28,
      "metadata": {
        "id": "H4cXJklpAo8I"
      },
      "outputs": [],
      "source": [
        "chain1 = ConversationChain([chain], generator=invoke_bedrock_anthropic_claude_v2)\n",
        "chain2 = ConversationChain([chain], generator=invoke_bedrock_anthropic_claude_v2)\n",
        "chain3 = ConversationChain([chain], generator=invoke_bedrock_anthropic_claude_v2)\n",
        "chain4 = ConversationChain([chain], generator=invoke_bedrock_anthropic_claude_v2)\n",
        "chain5 = ConversationChain([chain], generator=invoke_bedrock_anthropic_claude_v2)"
      ]
    },
    {
      "cell_type": "code",
      "execution_count": 29,
      "metadata": {
        "colab": {
          "base_uri": "https://localhost:8080/"
        },
        "id": "mAJi0J8ZAp9G",
        "outputId": "a61136b5-c91d-4ebf-e422-1e56fb9daf37"
      },
      "outputs": [
        {
          "data": {
            "text/plain": [
              "\n",
              "\n",
              "Human: Can you please recommend me 5 vegan recipes with these ingredients - sugar,  flour, cocoa powder,chocolate syrup. I also have these restrictions - should'nt be too sweet, should have low calories. Along with these preferences - italian\n",
              "\n",
              "\n",
              "Assistant:  Here are 5 vegan recipe ideas using sugar, flour, cocoa powder, and chocolate syrup that aren't too sweet, are lower in calories, and have an Italian flair:\n",
              "\n",
              "1. Vegan Chocolate Hazelnut Biscotti - Make biscotti dough with flour, sugar, cocoa powder, chopped hazelnuts. Shape into a log, bake, slice, and bake again. Dip in melted chocolate or chocolate-hazelnut spread.\n",
              "\n",
              "2. Vegan Chocolate Amaretti Cookies - Mix almond flour, sugar, cocoa powder, almond extract to make small cookies. Bake and dust with powdered sugar.\n",
              "\n",
              "3. Vegan Chocolate Espresso Pudding - Mix cocoa powder, sugar, cornstarch, non-dairy milk, espresso powder. Cook on the stove until thickened. Chill and top with whipped coconut cream. \n",
              "\n",
              "4. Vegan Chocolate Olive Oil Cake - Whisk together flour, sugar, cocoa powder, baking powder, olive oil, non-dairy milk, and vanilla. Bake in a cake pan. Dust with powdered sugar.\n",
              "\n",
              "5. Vegan Chocolate Biscotti Smoothie - Blend banana, non-dairy milk, cocoa powder, crushed biscotti, chocolate syrup. Top with whipped coconut cream and biscotti pieces.\n",
              "\n",
              "Let me know if you need any other details on these recipes or have additional ingredient preferences! I'm happy to provide more vegan baking ideas.\n",
              "\n",
              "\n",
              "Human: Ok now generate the entire list of things to do for the first recipe, the quantities of each ingredients, the proportions and the procedure in steps.\n",
              "\n",
              "\n",
              "Human: Can you please recommend me 5 vegan recipes with these ingredients - sugar,  flour, cocoa powder,chocolate syrup. I also have these restrictions - should'nt be too sweet, should have low calories. Along with these preferences - italian\n",
              "\n",
              "\n",
              "Assistant:  Here are 5 vegan recipe ideas using sugar, flour, cocoa powder, and chocolate syrup that aren't too sweet, are lower in calories, and have an Italian flair:\n",
              "\n",
              "1. Vegan Chocolate Hazelnut Biscotti - Make biscotti dough with flour, sugar, cocoa powder, chopped hazelnuts. Shape into a log, bake, slice, and bake again. Dip in melted chocolate or chocolate-hazelnut spread.\n",
              "\n",
              "2. Vegan Chocolate Amaretti Cookies - Mix almond flour, sugar, cocoa powder, almond extract to make small cookies. Bake and dust with powdered sugar.\n",
              "\n",
              "3. Vegan Chocolate Espresso Pudding - Mix cocoa powder, sugar, cornstarch, non-dairy milk, espresso powder. Cook on the stove until thickened. Chill and top with whipped coconut cream. \n",
              "\n",
              "4. Vegan Chocolate Olive Oil Cake - Whisk together flour, sugar, cocoa powder, baking powder, olive oil, non-dairy milk, and vanilla. Bake in a cake pan. Dust with powdered sugar.\n",
              "\n",
              "5. Vegan Chocolate Biscotti Smoothie - Blend banana, non-dairy milk, cocoa powder, crushed biscotti, chocolate syrup. Top with whipped coconut cream and biscotti pieces.\n",
              "\n",
              "Let me know if you need any other details on these recipes or have additional ingredient preferences! I'm happy to provide more vegan baking ideas.\n",
              "\n",
              "\n",
              "Assistant:  Here are the detailed instructions for the Vegan Chocolate Hazelnut Biscotti recipe:\n",
              "\n",
              "Ingredients:\n",
              "- 2 cups all-purpose flour \n",
              "- 1/2 cup sugar\n",
              "- 1/3 cup unsweetened cocoa powder\n",
              "- 1 tsp baking powder\n",
              "- 1/4 tsp salt\n",
              "- 1/2 cup hazelnuts, chopped  \n",
              "- 1/3 cup non-dairy milk\n",
              "- 1 tsp vanilla extract\n",
              "- 2 tbsp olive oil\n",
              "\n",
              "Instructions:\n",
              "\n",
              "1. Preheat oven to 350°F. Line a baking sheet with parchment paper. \n",
              "\n",
              "2. In a large bowl, whisk together the flour, sugar, cocoa powder, baking powder and salt. \n",
              "\n",
              "3. Add the hazelnuts, non-dairy milk, vanilla and olive oil. Stir until a dough forms. \n",
              "\n",
              "4. On a lightly floured surface, shape the dough into a log about 12 inches long and 2 inches wide. \n",
              "\n",
              "5. Place log on the prepared baking sheet. Bake for 30 minutes.\n",
              "\n",
              "6. Remove from oven and let cool for 10 minutes. Reduce oven temperature to 300°F.\n",
              "\n",
              "7. Using a serrated knife, slice the log diagonally into 1/2 inch thick slices. \n",
              "\n",
              "8. Arrange slices cut-side down on the baking sheet. Bake for 10 minutes. \n",
              "\n",
              "9. Flip biscotti over and bake for another 10 minutes until crisp.\n",
              "\n",
              "10. Let cool completely on a wire rack. Can be stored in an airtight container for up to 1 week.\n",
              "\n",
              "11. Optional: Dip one end of each cooled biscotti into melted vegan chocolate or chocolate-hazelnut spread. Let set on parchment paper until chocolate hardens.\n",
              "\n",
              "Enjoy your homemade vegan chocolate hazelnut biscotti! Let me know if you need any clarification on the instructions."
            ]
          },
          "execution_count": 29,
          "metadata": {},
          "output_type": "execute_result"
        }
      ],
      "source": [
        "chain1 = chain + \\\n",
        "    HumanPrompt(\"Ok now generate the entire list of things to do for the first recipe, the quantities of each ingredients, the proportions and the procedure in steps.\")+ \\\n",
        "chain1\n",
        "chain1 = chain1.generate()\n",
        "chain1"
      ]
    },
    {
      "cell_type": "code",
      "execution_count": 30,
      "metadata": {
        "colab": {
          "base_uri": "https://localhost:8080/"
        },
        "id": "ddPJ5jNPAwbv",
        "outputId": "d57e785a-7225-4dbc-b9cc-c18dcd82fa88"
      },
      "outputs": [
        {
          "data": {
            "text/plain": [
              "\n",
              "\n",
              "Human: Can you please recommend me 5 vegan recipes with these ingredients - sugar,  flour, cocoa powder,chocolate syrup. I also have these restrictions - should'nt be too sweet, should have low calories. Along with these preferences - italian\n",
              "\n",
              "\n",
              "Assistant:  Here are 5 vegan recipe ideas using sugar, flour, cocoa powder, and chocolate syrup that aren't too sweet, are lower in calories, and have an Italian flair:\n",
              "\n",
              "1. Vegan Chocolate Hazelnut Biscotti - Make biscotti dough with flour, sugar, cocoa powder, chopped hazelnuts. Shape into a log, bake, slice, and bake again. Dip in melted chocolate or chocolate-hazelnut spread.\n",
              "\n",
              "2. Vegan Chocolate Amaretti Cookies - Mix almond flour, sugar, cocoa powder, almond extract to make small cookies. Bake and dust with powdered sugar.\n",
              "\n",
              "3. Vegan Chocolate Espresso Pudding - Mix cocoa powder, sugar, cornstarch, non-dairy milk, espresso powder. Cook on the stove until thickened. Chill and top with whipped coconut cream. \n",
              "\n",
              "4. Vegan Chocolate Olive Oil Cake - Whisk together flour, sugar, cocoa powder, baking powder, olive oil, non-dairy milk, and vanilla. Bake in a cake pan. Dust with powdered sugar.\n",
              "\n",
              "5. Vegan Chocolate Biscotti Smoothie - Blend banana, non-dairy milk, cocoa powder, crushed biscotti, chocolate syrup. Top with whipped coconut cream and biscotti pieces.\n",
              "\n",
              "Let me know if you need any other details on these recipes or have additional ingredient preferences! I'm happy to provide more vegan baking ideas.\n",
              "\n",
              "\n",
              "Human: Ok now generate the entire list of things to do for the second recipe, the quantities of each ingredients, the proportions and the procedure in steps.\n",
              "\n",
              "\n",
              "Human: Can you please recommend me 5 vegan recipes with these ingredients - sugar,  flour, cocoa powder,chocolate syrup. I also have these restrictions - should'nt be too sweet, should have low calories. Along with these preferences - italian\n",
              "\n",
              "\n",
              "Assistant:  Here are 5 vegan recipe ideas using sugar, flour, cocoa powder, and chocolate syrup that aren't too sweet, are lower in calories, and have an Italian flair:\n",
              "\n",
              "1. Vegan Chocolate Hazelnut Biscotti - Make biscotti dough with flour, sugar, cocoa powder, chopped hazelnuts. Shape into a log, bake, slice, and bake again. Dip in melted chocolate or chocolate-hazelnut spread.\n",
              "\n",
              "2. Vegan Chocolate Amaretti Cookies - Mix almond flour, sugar, cocoa powder, almond extract to make small cookies. Bake and dust with powdered sugar.\n",
              "\n",
              "3. Vegan Chocolate Espresso Pudding - Mix cocoa powder, sugar, cornstarch, non-dairy milk, espresso powder. Cook on the stove until thickened. Chill and top with whipped coconut cream. \n",
              "\n",
              "4. Vegan Chocolate Olive Oil Cake - Whisk together flour, sugar, cocoa powder, baking powder, olive oil, non-dairy milk, and vanilla. Bake in a cake pan. Dust with powdered sugar.\n",
              "\n",
              "5. Vegan Chocolate Biscotti Smoothie - Blend banana, non-dairy milk, cocoa powder, crushed biscotti, chocolate syrup. Top with whipped coconut cream and biscotti pieces.\n",
              "\n",
              "Let me know if you need any other details on these recipes or have additional ingredient preferences! I'm happy to provide more vegan baking ideas.\n",
              "\n",
              "\n",
              "Assistant:  Here are the details for the Vegan Chocolate Amaretti Cookies recipe:\n",
              "\n",
              "Ingredients:\n",
              "- 1 1/2 cups almond flour \n",
              "- 1/3 cup sugar\n",
              "- 3 tbsp cocoa powder \n",
              "- 1 tsp almond extract\n",
              "- Pinch of salt\n",
              "\n",
              "Directions:\n",
              "\n",
              "1. Preheat oven to 300°F. Line a baking sheet with parchment paper. \n",
              "\n",
              "2. In a medium bowl, stir together the almond flour, sugar, cocoa powder, almond extract and salt until well combined. \n",
              "\n",
              "3. Roll dough into 1-inch balls and place them about 1 inch apart on the prepared baking sheet. \n",
              "\n",
              "4. Bake for 18-20 minutes, until the cookies look cracked on top. Let cool on the baking sheet for 5 minutes before transferring to a wire rack to cool completely.\n",
              "\n",
              "5. Once completely cooled, dust the cookies lightly with powdered sugar.\n",
              "\n",
              "Makes about 18 small cookies.\n",
              "\n",
              "Let me know if you need any clarification or have additional questions!"
            ]
          },
          "execution_count": 30,
          "metadata": {},
          "output_type": "execute_result"
        }
      ],
      "source": [
        "chain2 = chain + \\\n",
        "    HumanPrompt(\"Ok now generate the entire list of things to do for the second recipe, the quantities of each ingredients, the proportions and the procedure in steps.\")+ \\\n",
        "chain2\n",
        "chain2 = chain2.generate()\n",
        "chain2"
      ]
    },
    {
      "cell_type": "code",
      "execution_count": 31,
      "metadata": {
        "colab": {
          "base_uri": "https://localhost:8080/"
        },
        "id": "CS7Rd0z0Aw0d",
        "outputId": "794f92c7-6605-4639-a275-990975a8f88a"
      },
      "outputs": [
        {
          "data": {
            "text/plain": [
              "\n",
              "\n",
              "Human: Can you please recommend me 5 vegan recipes with these ingredients - sugar,  flour, cocoa powder,chocolate syrup. I also have these restrictions - should'nt be too sweet, should have low calories. Along with these preferences - italian\n",
              "\n",
              "\n",
              "Assistant:  Here are 5 vegan recipe ideas using sugar, flour, cocoa powder, and chocolate syrup that aren't too sweet, are lower in calories, and have an Italian flair:\n",
              "\n",
              "1. Vegan Chocolate Hazelnut Biscotti - Make biscotti dough with flour, sugar, cocoa powder, chopped hazelnuts. Shape into a log, bake, slice, and bake again. Dip in melted chocolate or chocolate-hazelnut spread.\n",
              "\n",
              "2. Vegan Chocolate Amaretti Cookies - Mix almond flour, sugar, cocoa powder, almond extract to make small cookies. Bake and dust with powdered sugar.\n",
              "\n",
              "3. Vegan Chocolate Espresso Pudding - Mix cocoa powder, sugar, cornstarch, non-dairy milk, espresso powder. Cook on the stove until thickened. Chill and top with whipped coconut cream. \n",
              "\n",
              "4. Vegan Chocolate Olive Oil Cake - Whisk together flour, sugar, cocoa powder, baking powder, olive oil, non-dairy milk, and vanilla. Bake in a cake pan. Dust with powdered sugar.\n",
              "\n",
              "5. Vegan Chocolate Biscotti Smoothie - Blend banana, non-dairy milk, cocoa powder, crushed biscotti, chocolate syrup. Top with whipped coconut cream and biscotti pieces.\n",
              "\n",
              "Let me know if you need any other details on these recipes or have additional ingredient preferences! I'm happy to provide more vegan baking ideas.\n",
              "\n",
              "\n",
              "Human: Ok now generate the entire list of things to do for the third recipe, the quantities of each ingredients, the proportions and the procedure in steps.\n",
              "\n",
              "\n",
              "Human: Can you please recommend me 5 vegan recipes with these ingredients - sugar,  flour, cocoa powder,chocolate syrup. I also have these restrictions - should'nt be too sweet, should have low calories. Along with these preferences - italian\n",
              "\n",
              "\n",
              "Assistant:  Here are 5 vegan recipe ideas using sugar, flour, cocoa powder, and chocolate syrup that aren't too sweet, are lower in calories, and have an Italian flair:\n",
              "\n",
              "1. Vegan Chocolate Hazelnut Biscotti - Make biscotti dough with flour, sugar, cocoa powder, chopped hazelnuts. Shape into a log, bake, slice, and bake again. Dip in melted chocolate or chocolate-hazelnut spread.\n",
              "\n",
              "2. Vegan Chocolate Amaretti Cookies - Mix almond flour, sugar, cocoa powder, almond extract to make small cookies. Bake and dust with powdered sugar.\n",
              "\n",
              "3. Vegan Chocolate Espresso Pudding - Mix cocoa powder, sugar, cornstarch, non-dairy milk, espresso powder. Cook on the stove until thickened. Chill and top with whipped coconut cream. \n",
              "\n",
              "4. Vegan Chocolate Olive Oil Cake - Whisk together flour, sugar, cocoa powder, baking powder, olive oil, non-dairy milk, and vanilla. Bake in a cake pan. Dust with powdered sugar.\n",
              "\n",
              "5. Vegan Chocolate Biscotti Smoothie - Blend banana, non-dairy milk, cocoa powder, crushed biscotti, chocolate syrup. Top with whipped coconut cream and biscotti pieces.\n",
              "\n",
              "Let me know if you need any other details on these recipes or have additional ingredient preferences! I'm happy to provide more vegan baking ideas.\n",
              "\n",
              "\n",
              "Assistant:  Here is the detailed recipe for the Vegan Chocolate Espresso Pudding:\n",
              "\n",
              "Ingredients:\n",
              "- 1/3 cup cocoa powder \n",
              "- 1/2 cup sugar\n",
              "- 3 tablespoons cornstarch\n",
              "- 2 cups non-dairy milk (like almond, soy or oat milk)\n",
              "- 1 tablespoon instant espresso powder\n",
              "- 1 teaspoon vanilla extract\n",
              "- Pinch of salt\n",
              "\n",
              "For Serving:\n",
              "- Whipped coconut cream \n",
              "- Shaved chocolate \n",
              "- Cocoa powder for dusting\n",
              "\n",
              "Instructions:\n",
              "\n",
              "1. In a small bowl, whisk together the cocoa powder, sugar, cornstarch, espresso powder and salt. Set aside.\n",
              "\n",
              "2. In a medium saucepan, heat the non-dairy milk over medium heat until just simmering. \n",
              "\n",
              "3. Slowly whisk the cocoa powder mixture into the hot milk. \n",
              "\n",
              "4. Bring to a boil, while continuously whisking. Boil for 2 minutes, whisking constantly, until thickened to a pudding consistency.\n",
              "\n",
              "5. Remove from heat and stir in the vanilla extract. \n",
              "\n",
              "6. Pour pudding into a bowl or individual ramekins. Press plastic wrap directly on surface of pudding to prevent skin forming. Refrigerate for at least 2 hours until set.\n",
              "\n",
              "7. To serve, top pudding with whipped coconut cream, shaved chocolate and a dusting of cocoa powder. Enjoy!\n",
              "\n",
              "Let me know if you need any clarification or have additional questions!"
            ]
          },
          "execution_count": 31,
          "metadata": {},
          "output_type": "execute_result"
        }
      ],
      "source": [
        "chain3 = chain + \\\n",
        "    HumanPrompt(\"Ok now generate the entire list of things to do for the third recipe, the quantities of each ingredients, the proportions and the procedure in steps.\")+ \\\n",
        "chain3\n",
        "chain3 = chain3.generate()\n",
        "chain3"
      ]
    },
    {
      "cell_type": "code",
      "execution_count": 32,
      "metadata": {
        "colab": {
          "base_uri": "https://localhost:8080/"
        },
        "id": "3F761MJuAxZ_",
        "outputId": "72726f18-05b6-44ef-b0ed-c4e751811d32"
      },
      "outputs": [
        {
          "data": {
            "text/plain": [
              "\n",
              "\n",
              "Human: Can you please recommend me 5 vegan recipes with these ingredients - sugar,  flour, cocoa powder,chocolate syrup. I also have these restrictions - should'nt be too sweet, should have low calories. Along with these preferences - italian\n",
              "\n",
              "\n",
              "Assistant:  Here are 5 vegan recipe ideas using sugar, flour, cocoa powder, and chocolate syrup that aren't too sweet, are lower in calories, and have an Italian flair:\n",
              "\n",
              "1. Vegan Chocolate Hazelnut Biscotti - Make biscotti dough with flour, sugar, cocoa powder, chopped hazelnuts. Shape into a log, bake, slice, and bake again. Dip in melted chocolate or chocolate-hazelnut spread.\n",
              "\n",
              "2. Vegan Chocolate Amaretti Cookies - Mix almond flour, sugar, cocoa powder, almond extract to make small cookies. Bake and dust with powdered sugar.\n",
              "\n",
              "3. Vegan Chocolate Espresso Pudding - Mix cocoa powder, sugar, cornstarch, non-dairy milk, espresso powder. Cook on the stove until thickened. Chill and top with whipped coconut cream. \n",
              "\n",
              "4. Vegan Chocolate Olive Oil Cake - Whisk together flour, sugar, cocoa powder, baking powder, olive oil, non-dairy milk, and vanilla. Bake in a cake pan. Dust with powdered sugar.\n",
              "\n",
              "5. Vegan Chocolate Biscotti Smoothie - Blend banana, non-dairy milk, cocoa powder, crushed biscotti, chocolate syrup. Top with whipped coconut cream and biscotti pieces.\n",
              "\n",
              "Let me know if you need any other details on these recipes or have additional ingredient preferences! I'm happy to provide more vegan baking ideas.\n",
              "\n",
              "\n",
              "Human: Ok now generate the entire list of things to do for the fourth recipe, the quantities of each ingredients, the proportions and the procedure in steps.\n",
              "\n",
              "\n",
              "Human: Can you please recommend me 5 vegan recipes with these ingredients - sugar,  flour, cocoa powder,chocolate syrup. I also have these restrictions - should'nt be too sweet, should have low calories. Along with these preferences - italian\n",
              "\n",
              "\n",
              "Assistant:  Here are 5 vegan recipe ideas using sugar, flour, cocoa powder, and chocolate syrup that aren't too sweet, are lower in calories, and have an Italian flair:\n",
              "\n",
              "1. Vegan Chocolate Hazelnut Biscotti - Make biscotti dough with flour, sugar, cocoa powder, chopped hazelnuts. Shape into a log, bake, slice, and bake again. Dip in melted chocolate or chocolate-hazelnut spread.\n",
              "\n",
              "2. Vegan Chocolate Amaretti Cookies - Mix almond flour, sugar, cocoa powder, almond extract to make small cookies. Bake and dust with powdered sugar.\n",
              "\n",
              "3. Vegan Chocolate Espresso Pudding - Mix cocoa powder, sugar, cornstarch, non-dairy milk, espresso powder. Cook on the stove until thickened. Chill and top with whipped coconut cream. \n",
              "\n",
              "4. Vegan Chocolate Olive Oil Cake - Whisk together flour, sugar, cocoa powder, baking powder, olive oil, non-dairy milk, and vanilla. Bake in a cake pan. Dust with powdered sugar.\n",
              "\n",
              "5. Vegan Chocolate Biscotti Smoothie - Blend banana, non-dairy milk, cocoa powder, crushed biscotti, chocolate syrup. Top with whipped coconut cream and biscotti pieces.\n",
              "\n",
              "Let me know if you need any other details on these recipes or have additional ingredient preferences! I'm happy to provide more vegan baking ideas.\n",
              "\n",
              "\n",
              "Assistant:  Here are the details for the Vegan Chocolate Olive Oil Cake recipe:\n",
              "\n",
              "Ingredients:\n",
              "- 1 1/2 cups all-purpose flour \n",
              "- 1/2 cup cocoa powder\n",
              "- 1 1/2 teaspoons baking powder\n",
              "- 1/2 teaspoon salt\n",
              "- 1/2 cup granulated sugar\n",
              "- 1/3 cup olive oil\n",
              "- 1 teaspoon vanilla extract\n",
              "- 1 cup non-dairy milk (like almond or soy)\n",
              "- Powdered sugar for dusting\n",
              "\n",
              "Instructions:\n",
              "\n",
              "1. Preheat oven to 350°F. Grease a 9-inch round cake pan with olive oil or non-stick spray.\n",
              "\n",
              "2. In a medium bowl, whisk together the flour, cocoa powder, baking powder and salt. \n",
              "\n",
              "3. In a large bowl, beat the granulated sugar, olive oil, vanilla and non-dairy milk together until well combined. \n",
              "\n",
              "4. Slowly beat in the dry ingredients until just combined (do not overmix).\n",
              "\n",
              "5. Pour batter into prepared cake pan and bake for 30-35 minutes, until a toothpick inserted in the center comes out clean.\n",
              "\n",
              "6. Allow cake to cool completely before removing from pan. Dust with powdered sugar before serving.\n",
              "\n",
              "Let me know if you need any clarification on quantities or steps! I'm happy to provide more details."
            ]
          },
          "execution_count": 32,
          "metadata": {},
          "output_type": "execute_result"
        }
      ],
      "source": [
        "chain3 = chain + \\\n",
        "    HumanPrompt(\"Ok now generate the entire list of things to do for the third recipe, the quantities of each ingredients, the proportions and the procedure in steps.\")+ \\\n",
        "chain3\n",
        "chain3 = chain3.generate()\n",
        "chain3"
      ]
    },
    {
      "cell_type": "code",
      "execution_count": 33,
      "metadata": {
        "colab": {
          "base_uri": "https://localhost:8080/"
        },
        "id": "JKVMKDdnAyPf",
        "outputId": "a1f7a04b-8891-45a3-84a1-48740d353811"
      },
      "outputs": [
        {
          "data": {
            "text/plain": [
              "\n",
              "\n",
              "Human: Can you please recommend me 5 vegan recipes with these ingredients - sugar,  flour, cocoa powder,chocolate syrup. I also have these restrictions - should'nt be too sweet, should have low calories. Along with these preferences - italian\n",
              "\n",
              "\n",
              "Assistant:  Here are 5 vegan recipe ideas using sugar, flour, cocoa powder, and chocolate syrup that aren't too sweet, are lower in calories, and have an Italian flair:\n",
              "\n",
              "1. Vegan Chocolate Hazelnut Biscotti - Make biscotti dough with flour, sugar, cocoa powder, chopped hazelnuts. Shape into a log, bake, slice, and bake again. Dip in melted chocolate or chocolate-hazelnut spread.\n",
              "\n",
              "2. Vegan Chocolate Amaretti Cookies - Mix almond flour, sugar, cocoa powder, almond extract to make small cookies. Bake and dust with powdered sugar.\n",
              "\n",
              "3. Vegan Chocolate Espresso Pudding - Mix cocoa powder, sugar, cornstarch, non-dairy milk, espresso powder. Cook on the stove until thickened. Chill and top with whipped coconut cream. \n",
              "\n",
              "4. Vegan Chocolate Olive Oil Cake - Whisk together flour, sugar, cocoa powder, baking powder, olive oil, non-dairy milk, and vanilla. Bake in a cake pan. Dust with powdered sugar.\n",
              "\n",
              "5. Vegan Chocolate Biscotti Smoothie - Blend banana, non-dairy milk, cocoa powder, crushed biscotti, chocolate syrup. Top with whipped coconut cream and biscotti pieces.\n",
              "\n",
              "Let me know if you need any other details on these recipes or have additional ingredient preferences! I'm happy to provide more vegan baking ideas.\n",
              "\n",
              "\n",
              "Human: Ok now generate the entire list of things to do for the fifth recipe, the quantities of each ingredients, the proportions and the procedure in steps.\n",
              "\n",
              "\n",
              "Human: Can you please recommend me 5 vegan recipes with these ingredients - sugar,  flour, cocoa powder,chocolate syrup. I also have these restrictions - should'nt be too sweet, should have low calories. Along with these preferences - italian\n",
              "\n",
              "\n",
              "Assistant:  Here are 5 vegan recipe ideas using sugar, flour, cocoa powder, and chocolate syrup that aren't too sweet, are lower in calories, and have an Italian flair:\n",
              "\n",
              "1. Vegan Chocolate Hazelnut Biscotti - Make biscotti dough with flour, sugar, cocoa powder, chopped hazelnuts. Shape into a log, bake, slice, and bake again. Dip in melted chocolate or chocolate-hazelnut spread.\n",
              "\n",
              "2. Vegan Chocolate Amaretti Cookies - Mix almond flour, sugar, cocoa powder, almond extract to make small cookies. Bake and dust with powdered sugar.\n",
              "\n",
              "3. Vegan Chocolate Espresso Pudding - Mix cocoa powder, sugar, cornstarch, non-dairy milk, espresso powder. Cook on the stove until thickened. Chill and top with whipped coconut cream. \n",
              "\n",
              "4. Vegan Chocolate Olive Oil Cake - Whisk together flour, sugar, cocoa powder, baking powder, olive oil, non-dairy milk, and vanilla. Bake in a cake pan. Dust with powdered sugar.\n",
              "\n",
              "5. Vegan Chocolate Biscotti Smoothie - Blend banana, non-dairy milk, cocoa powder, crushed biscotti, chocolate syrup. Top with whipped coconut cream and biscotti pieces.\n",
              "\n",
              "Let me know if you need any other details on these recipes or have additional ingredient preferences! I'm happy to provide more vegan baking ideas.\n",
              "\n",
              "\n",
              "Assistant:  Here is the detailed recipe for the Vegan Chocolate Biscotti Smoothie:\n",
              "\n",
              "Ingredients:\n",
              "- 1 medium banana, frozen\n",
              "- 1 cup non-dairy milk (almond, soy, oat, etc.) \n",
              "- 2 tbsp cocoa powder\n",
              "- 1/4 cup crushed vegan chocolate biscotti \n",
              "- 2 tbsp chocolate syrup\n",
              "- 2 tbsp coconut cream (for whipping)\n",
              "- 2-3 vegan chocolate biscotti, for garnish\n",
              "\n",
              "Instructions:\n",
              "\n",
              "1. Add the frozen banana, non-dairy milk, cocoa powder, crushed biscotti, and chocolate syrup to a high-powered blender. Blend on high until smooth and creamy.\n",
              "\n",
              "2. In a small bowl, whip the coconut cream with an electric mixer until light and fluffy, about 2-3 minutes. \n",
              "\n",
              "3. Pour the smoothie into a glass. Top with the whipped coconut cream and garnish with biscotti pieces.\n",
              "\n",
              "4. Enjoy immediately! Makes 1 serving.\n",
              "\n",
              "Let me know if you need any clarification on quantities or preparation steps. I'm happy to provide more details."
            ]
          },
          "execution_count": 33,
          "metadata": {},
          "output_type": "execute_result"
        }
      ],
      "source": [
        "chain5 = chain + \\\n",
        "    HumanPrompt(\"Ok now generate the entire list of things to do for the fifth recipe, the quantities of each ingredients, the proportions and the procedure in steps.\")+ \\\n",
        "chain5\n",
        "chain5 = chain5.generate()\n",
        "chain5"
      ]
    },
    {
      "cell_type": "code",
      "execution_count": 34,
      "metadata": {
        "colab": {
          "base_uri": "https://localhost:8080/"
        },
        "id": "5rDwW6hhB-jV",
        "outputId": "c4f6d6d8-9cab-42c7-f726-16f4e980559f"
      },
      "outputs": [
        {
          "name": "stdout",
          "output_type": "stream",
          "text": [
            "Getting item for index -1\n"
          ]
        },
        {
          "data": {
            "text/plain": [
              "\n",
              "\n",
              "Assistant:  Here are the detailed instructions for the Vegan Chocolate Hazelnut Biscotti recipe:\n",
              "\n",
              "Ingredients:\n",
              "- 2 cups all-purpose flour \n",
              "- 1/2 cup sugar\n",
              "- 1/3 cup unsweetened cocoa powder\n",
              "- 1 tsp baking powder\n",
              "- 1/4 tsp salt\n",
              "- 1/2 cup hazelnuts, chopped  \n",
              "- 1/3 cup non-dairy milk\n",
              "- 1 tsp vanilla extract\n",
              "- 2 tbsp olive oil\n",
              "\n",
              "Instructions:\n",
              "\n",
              "1. Preheat oven to 350°F. Line a baking sheet with parchment paper. \n",
              "\n",
              "2. In a large bowl, whisk together the flour, sugar, cocoa powder, baking powder and salt. \n",
              "\n",
              "3. Add the hazelnuts, non-dairy milk, vanilla and olive oil. Stir until a dough forms. \n",
              "\n",
              "4. On a lightly floured surface, shape the dough into a log about 12 inches long and 2 inches wide. \n",
              "\n",
              "5. Place log on the prepared baking sheet. Bake for 30 minutes.\n",
              "\n",
              "6. Remove from oven and let cool for 10 minutes. Reduce oven temperature to 300°F.\n",
              "\n",
              "7. Using a serrated knife, slice the log diagonally into 1/2 inch thick slices. \n",
              "\n",
              "8. Arrange slices cut-side down on the baking sheet. Bake for 10 minutes. \n",
              "\n",
              "9. Flip biscotti over and bake for another 10 minutes until crisp.\n",
              "\n",
              "10. Let cool completely on a wire rack. Can be stored in an airtight container for up to 1 week.\n",
              "\n",
              "11. Optional: Dip one end of each cooled biscotti into melted vegan chocolate or chocolate-hazelnut spread. Let set on parchment paper until chocolate hardens.\n",
              "\n",
              "Enjoy your homemade vegan chocolate hazelnut biscotti! Let me know if you need any clarification on the instructions."
            ]
          },
          "execution_count": 34,
          "metadata": {},
          "output_type": "execute_result"
        }
      ],
      "source": [
        "chain1[-1]"
      ]
    },
    {
      "cell_type": "code",
      "execution_count": 35,
      "metadata": {
        "colab": {
          "base_uri": "https://localhost:8080/"
        },
        "id": "lwF8KqpOB-b1",
        "outputId": "5e43e160-05ed-4998-9241-23e9a1d9b62c"
      },
      "outputs": [
        {
          "name": "stdout",
          "output_type": "stream",
          "text": [
            "Getting item for index -1\n"
          ]
        },
        {
          "data": {
            "text/plain": [
              "\n",
              "\n",
              "Assistant:  Here are the details for the Vegan Chocolate Amaretti Cookies recipe:\n",
              "\n",
              "Ingredients:\n",
              "- 1 1/2 cups almond flour \n",
              "- 1/3 cup sugar\n",
              "- 3 tbsp cocoa powder \n",
              "- 1 tsp almond extract\n",
              "- Pinch of salt\n",
              "\n",
              "Directions:\n",
              "\n",
              "1. Preheat oven to 300°F. Line a baking sheet with parchment paper. \n",
              "\n",
              "2. In a medium bowl, stir together the almond flour, sugar, cocoa powder, almond extract and salt until well combined. \n",
              "\n",
              "3. Roll dough into 1-inch balls and place them about 1 inch apart on the prepared baking sheet. \n",
              "\n",
              "4. Bake for 18-20 minutes, until the cookies look cracked on top. Let cool on the baking sheet for 5 minutes before transferring to a wire rack to cool completely.\n",
              "\n",
              "5. Once completely cooled, dust the cookies lightly with powdered sugar.\n",
              "\n",
              "Makes about 18 small cookies.\n",
              "\n",
              "Let me know if you need any clarification or have additional questions!"
            ]
          },
          "execution_count": 35,
          "metadata": {},
          "output_type": "execute_result"
        }
      ],
      "source": [
        "chain2[-1]"
      ]
    },
    {
      "cell_type": "code",
      "execution_count": 36,
      "metadata": {
        "colab": {
          "base_uri": "https://localhost:8080/"
        },
        "id": "JerI-ee2B-Vn",
        "outputId": "bcc2e650-87f1-4e9e-c8e1-fae5f63e5043"
      },
      "outputs": [
        {
          "name": "stdout",
          "output_type": "stream",
          "text": [
            "Getting item for index -1\n"
          ]
        },
        {
          "data": {
            "text/plain": [
              "\n",
              "\n",
              "Assistant:  Here is the detailed recipe for the Vegan Chocolate Espresso Pudding:\n",
              "\n",
              "Ingredients:\n",
              "- 1/3 cup cocoa powder \n",
              "- 1/2 cup sugar\n",
              "- 3 tablespoons cornstarch\n",
              "- 2 cups non-dairy milk (like almond, soy or oat milk)\n",
              "- 1 tablespoon instant espresso powder\n",
              "- 1 teaspoon vanilla extract\n",
              "- Pinch of salt\n",
              "\n",
              "For Serving:\n",
              "- Whipped coconut cream \n",
              "- Shaved chocolate \n",
              "- Cocoa powder for dusting\n",
              "\n",
              "Instructions:\n",
              "\n",
              "1. In a small bowl, whisk together the cocoa powder, sugar, cornstarch, espresso powder and salt. Set aside.\n",
              "\n",
              "2. In a medium saucepan, heat the non-dairy milk over medium heat until just simmering. \n",
              "\n",
              "3. Slowly whisk the cocoa powder mixture into the hot milk. \n",
              "\n",
              "4. Bring to a boil, while continuously whisking. Boil for 2 minutes, whisking constantly, until thickened to a pudding consistency.\n",
              "\n",
              "5. Remove from heat and stir in the vanilla extract. \n",
              "\n",
              "6. Pour pudding into a bowl or individual ramekins. Press plastic wrap directly on surface of pudding to prevent skin forming. Refrigerate for at least 2 hours until set.\n",
              "\n",
              "7. To serve, top pudding with whipped coconut cream, shaved chocolate and a dusting of cocoa powder. Enjoy!\n",
              "\n",
              "Let me know if you need any clarification or have additional questions!"
            ]
          },
          "execution_count": 36,
          "metadata": {},
          "output_type": "execute_result"
        }
      ],
      "source": [
        "chain3[-1]"
      ]
    },
    {
      "cell_type": "code",
      "execution_count": 37,
      "metadata": {
        "colab": {
          "base_uri": "https://localhost:8080/"
        },
        "id": "HPAjl_h9B-O-",
        "outputId": "3289681b-b0fc-4b26-849e-0390c0f40ae9"
      },
      "outputs": [
        {
          "name": "stdout",
          "output_type": "stream",
          "text": [
            "Getting item for index -1\n"
          ]
        },
        {
          "data": {
            "text/plain": [
              "\n",
              "\n",
              "Assistant:  Here are the details for the Vegan Chocolate Olive Oil Cake recipe:\n",
              "\n",
              "Ingredients:\n",
              "- 1 1/2 cups all-purpose flour \n",
              "- 1/2 cup cocoa powder\n",
              "- 1 1/2 teaspoons baking powder\n",
              "- 1/2 teaspoon salt\n",
              "- 1/2 cup granulated sugar\n",
              "- 1/3 cup olive oil\n",
              "- 1 teaspoon vanilla extract\n",
              "- 1 cup non-dairy milk (like almond or soy)\n",
              "- Powdered sugar for dusting\n",
              "\n",
              "Instructions:\n",
              "\n",
              "1. Preheat oven to 350°F. Grease a 9-inch round cake pan with olive oil or non-stick spray.\n",
              "\n",
              "2. In a medium bowl, whisk together the flour, cocoa powder, baking powder and salt. \n",
              "\n",
              "3. In a large bowl, beat the granulated sugar, olive oil, vanilla and non-dairy milk together until well combined. \n",
              "\n",
              "4. Slowly beat in the dry ingredients until just combined (do not overmix).\n",
              "\n",
              "5. Pour batter into prepared cake pan and bake for 30-35 minutes, until a toothpick inserted in the center comes out clean.\n",
              "\n",
              "6. Allow cake to cool completely before removing from pan. Dust with powdered sugar before serving.\n",
              "\n",
              "Let me know if you need any clarification on quantities or steps! I'm happy to provide more details."
            ]
          },
          "execution_count": 37,
          "metadata": {},
          "output_type": "execute_result"
        }
      ],
      "source": [
        "chain4[-1]"
      ]
    },
    {
      "cell_type": "code",
      "execution_count": 38,
      "metadata": {
        "colab": {
          "base_uri": "https://localhost:8080/"
        },
        "id": "mSyJNjWZB-KJ",
        "outputId": "69268aae-e68a-4ea6-b996-136eddec7f2d"
      },
      "outputs": [
        {
          "name": "stdout",
          "output_type": "stream",
          "text": [
            "Getting item for index -1\n"
          ]
        },
        {
          "data": {
            "text/plain": [
              "\n",
              "\n",
              "Assistant:  Here is the detailed recipe for the Vegan Chocolate Biscotti Smoothie:\n",
              "\n",
              "Ingredients:\n",
              "- 1 medium banana, frozen\n",
              "- 1 cup non-dairy milk (almond, soy, oat, etc.) \n",
              "- 2 tbsp cocoa powder\n",
              "- 1/4 cup crushed vegan chocolate biscotti \n",
              "- 2 tbsp chocolate syrup\n",
              "- 2 tbsp coconut cream (for whipping)\n",
              "- 2-3 vegan chocolate biscotti, for garnish\n",
              "\n",
              "Instructions:\n",
              "\n",
              "1. Add the frozen banana, non-dairy milk, cocoa powder, crushed biscotti, and chocolate syrup to a high-powered blender. Blend on high until smooth and creamy.\n",
              "\n",
              "2. In a small bowl, whip the coconut cream with an electric mixer until light and fluffy, about 2-3 minutes. \n",
              "\n",
              "3. Pour the smoothie into a glass. Top with the whipped coconut cream and garnish with biscotti pieces.\n",
              "\n",
              "4. Enjoy immediately! Makes 1 serving.\n",
              "\n",
              "Let me know if you need any clarification on quantities or preparation steps. I'm happy to provide more details."
            ]
          },
          "execution_count": 38,
          "metadata": {},
          "output_type": "execute_result"
        }
      ],
      "source": [
        "chain5[-1]"
      ]
    }
  ],
  "metadata": {
    "colab": {
      "provenance": []
    },
    "kernelspec": {
      "display_name": "Python 3",
      "name": "python3"
    },
    "language_info": {
      "codemirror_mode": {
        "name": "ipython",
        "version": 3
      },
      "file_extension": ".py",
      "mimetype": "text/x-python",
      "name": "python",
      "nbconvert_exporter": "python",
      "pygments_lexer": "ipython3",
      "version": "3.11.5"
    }
  },
  "nbformat": 4,
  "nbformat_minor": 0
}
